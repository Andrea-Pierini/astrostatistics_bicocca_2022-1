{
 "cells": [
  {
   "cell_type": "code",
   "execution_count": 8,
   "id": "750c7efe",
   "metadata": {},
   "outputs": [
    {
     "name": "stdout",
     "output_type": "stream",
     "text": [
      "100000000\n",
      "Monte Carlo integral = 19899.958\n",
      "Theoretical integral = 20000.000\n"
     ]
    }
   ],
   "source": [
    "import numpy as np\n",
    "\n",
    "def func(x, s):\n",
    "    return x**3 * np.exp( - 0.5 * x**2 / s**2 ) \n",
    "\n",
    "I = 10000.0\n",
    "N = 100000000\n",
    "s = 10\n",
    "\n",
    "# x = np.arctan( np.random.uniform(low=0.0, high=1.0, size=N) )\n",
    "\n",
    "x = np.random.uniform(low=0.0, high=I, size=N)\n",
    "\n",
    "y = func( x , s )\n",
    "\n",
    "print(y.size)\n",
    "\n",
    "integral = I * np.sum(y) / N\n",
    "\n",
    "print(\"Monte Carlo integral = {:.3f}\".format(integral))\n",
    "\n",
    "print(\"Theoretical integral = {:.3f}\".format(2 * s**4))"
   ]
  },
  {
   "cell_type": "code",
   "execution_count": null,
   "id": "984b2564",
   "metadata": {},
   "outputs": [],
   "source": []
  },
  {
   "cell_type": "code",
   "execution_count": 15,
   "id": "cb970ad2",
   "metadata": {},
   "outputs": [],
   "source": [
    "import matplotlib.pyplot as plt\n",
    "\n",
    "d = [0, 1, 2, 3, 4]\n",
    "c = [109, 65, 22, 3, 1]\n",
    "\n"
   ]
  },
  {
   "cell_type": "code",
   "execution_count": null,
   "id": "fca1b92a",
   "metadata": {},
   "outputs": [],
   "source": []
  }
 ],
 "metadata": {
  "kernelspec": {
   "display_name": "Python 3 (ipykernel)",
   "language": "python",
   "name": "python3"
  },
  "language_info": {
   "codemirror_mode": {
    "name": "ipython",
    "version": 3
   },
   "file_extension": ".py",
   "mimetype": "text/x-python",
   "name": "python",
   "nbconvert_exporter": "python",
   "pygments_lexer": "ipython3",
   "version": "3.9.10"
  }
 },
 "nbformat": 4,
 "nbformat_minor": 5
}
