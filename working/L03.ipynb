{
 "cells": [
  {
   "cell_type": "code",
   "execution_count": 21,
   "id": "619c1cd2",
   "metadata": {},
   "outputs": [],
   "source": [
    "#######################\n",
    "### L03 - Exercises ###\n",
    "#######################\n",
    "\n",
    "# importing libraries and setting up nice plots\n",
    "\n",
    "import random\n",
    "import numpy as np\n",
    "import matplotlib.pyplot        as     plt\n",
    "import matplotlib.patches       as     patches\n",
    "import matplotlib.ticker\t\tas     tck\n",
    "import matplotlib.colors\t\tas     colors\n",
    "from   matplotlib\t\t\t\timport rc\n",
    "from   matplotlib.ticker\t\timport FormatStrFormatter, MultipleLocator, FuncFormatter\n",
    "from   matplotlib.gridspec\t\timport GridSpec\n",
    "from   scipy.stats              import norm\n",
    "\n",
    "plt.rcParams.update({\n",
    "    \"text.usetex\": True,\n",
    "    \"font.family\": \"serif\",\n",
    "    \"font.serif\" : [\"Times New Roman\"],\n",
    "\t\"font.size\"  : 15\n",
    "    })\n",
    "plt.rc('text.latex', preamble=r'\\usepackage{amssymb}')"
   ]
  },
  {
   "cell_type": "code",
   "execution_count": null,
   "id": "d8ebc0f1",
   "metadata": {},
   "outputs": [],
   "source": [
    "##################################################\n",
    "### L03 - Exercise 1: MMonte Carlo integration ###\n",
    "##################################################"
   ]
  },
  {
   "cell_type": "markdown",
   "id": "d383ed33",
   "metadata": {},
   "source": [
    "Using Monte Carlo Integration, verify that:\n",
    "\n",
    "$$\n",
    "    I = \n",
    "    \\int_0^\\infty \n",
    "    \\, \\textup{d}x \n",
    "    \\; x^3 \\exp\\!\\!\\bigg( \\!\\!\n",
    "        -\\frac{1}{2} \\frac{x^2}{\\sigma^2}\n",
    "    \\bigg)\n",
    "    = 2 \\sigma^4\n",
    "$$\n",
    "\n",
    "Our goal is to write the integral as:\n",
    "\n",
    "$$\n",
    "    I = \\int_0^\\infty \n",
    "    \\, \\textup{d}x \n",
    "    \\; f(x) \\, \\textup{pdf}(x)\n",
    "$$\n",
    "\n",
    "We recognise something similar to a Normal distribution $\\mathcal{N}(\\mu = 0,\\sigma)$ in the exponential factor. However, the integration domain is $(0,+\\infty)$, so we must take as $\\textup{pdf}(x)$ a truncated Normal distribution only for $x \\geq 0$. Note that the area of such a truncated Normal is only $\\frac{1}{2}$, so the pdf must be corrected:\n",
    "\n",
    "\n",
    "$$\n",
    "\\textup{pdf}(x) \n",
    "= \\begin{cases}\n",
    "    2\\,\\dfrac{1}{\\sigma \\sqrt{2\\pi}} \n",
    "  \\exp\\!\\!\\bigg( \\!\\!\n",
    "        -\\dfrac{1}{2} \\dfrac{x^2}{\\sigma^2}\n",
    "  \\bigg)\n",
    "  & \\textup{ if } x \\geq 0\n",
    "  \\\\\n",
    "  0 & \\textup{ if } x < 0\n",
    "\\end{cases} \n",
    "$$ \n",
    "\n",
    "$$\n",
    "% \\mathcal{N}(\\mu = 0,\\sigma)\n",
    "% = \\frac{1}{\\sigma \\sqrt{2\\pi}} \n",
    "%   \\exp\\!\\!\\bigg( \\!\\!\n",
    "%         -\\frac{1}{2} \\frac{x^2}{\\sigma^2}\n",
    "%   \\bigg)\n",
    "$$\n",
    "\n",
    "so that the function $f(x)$ becomes\n",
    "\n",
    "$$\n",
    "f(x) = \\sigma \\sqrt{\\dfrac{\\pi}{2}} \\, x^3\n",
    "$$\n",
    "\n",
    "With Monte Carlo integration we then define the following unbiased estimator for $I$:\n",
    "\n",
    "$$\n",
    "    I \\approx \n",
    "    \\sqrt{\\frac{2}{\\pi}}\n",
    "    \\frac{ \\sigma }{N} \\,\\sum_{i\\,=\\,1}^N x_i^3 \n",
    "    \\quad \\textup{with } x_i \\textup{ drawn from } % \\quad \n",
    "    \\textup{pdf}(x)\n",
    "    % \\mathcal{N}(\\mu = 0,\\sigma)\n",
    "$$"
   ]
  },
  {
   "cell_type": "code",
   "execution_count": 20,
   "id": "750c7efe",
   "metadata": {},
   "outputs": [
    {
     "name": "stdout",
     "output_type": "stream",
     "text": [
      "Analytic integral = 2.0000\n",
      "N = 1e+04 Monte Carlo integral = 2.0036357736 +- 0.0041103546\n",
      "N = 1e+05 Monte Carlo integral = 2.0028179022 +- 0.0012423214\n",
      "N = 1e+06 Monte Carlo integral = 2.0001448169 +- 0.0004316139\n",
      "N = 1e+07 Monte Carlo integral = 2.0000599009 +- 0.0001295587\n",
      "N = 1e+08 Monte Carlo integral = 2.0000160489 +- 0.0000418560\n"
     ]
    }
   ],
   "source": [
    "N = [ int(1e4), int(1e5), int(1e6), int(1e7), int(1e8) ]\n",
    "\n",
    "# above, we have rewritten the integrand as f * pdf\n",
    "\n",
    "# use an intermediate pdf, a Gaussian distr centered in 0 with non0 sigma\n",
    "sigma = 1\n",
    "mean  = 0\n",
    "distr_gauss = norm(mean,sigma)\n",
    "\n",
    "# extract a sample x of size N from the Gaussian distr\n",
    "# note: the integral domain is (0, +infty)\n",
    "#       the Gaussian distr domain is (-infty, +infty)\n",
    "#       the Gaussian distr is symmetric\n",
    "# then let's take the absolute value of x sampled from the usual Gaussian\n",
    "# remember to correct for the wrong normalisation\n",
    "# evaluate the function f on the sample x, then I approx mean(f)\n",
    "# note: we repeat and average the procedure 10 times for each different N\n",
    "\n",
    "print(\"Analytic integral = {:.4f}\".format(2 * sigma**4))\n",
    "\n",
    "I_full = []\n",
    "I = []\n",
    "S = []\n",
    "for n in N:\n",
    "    i = np.zeros(100)\n",
    "    for t in range(len(i)):\n",
    "        x = np.array( distr_gauss.rvs(n) )\n",
    "        x = np.abs(x)\n",
    "        f = sigma * np.sqrt(np.pi/2) * x**3\n",
    "        i[t] = np.mean(f)\n",
    "    I_full.append(i)\n",
    "    i_avg100 = np.mean(i)\n",
    "    I.append(i_avg100)\n",
    "    s_avg100 = np.std(i) / np.sqrt(len(i))\n",
    "    S.append(s_avg100)\n",
    "    print(\n",
    "        \"N = {:.0e} Monte Carlo integral = {:.10f} +- {:.10f}\"\n",
    "        .format(float(n), i_avg100, s_avg100)\n",
    "        )\n",
    "\n"
   ]
  },
  {
   "cell_type": "code",
   "execution_count": 32,
   "id": "984b2564",
   "metadata": {},
   "outputs": [
    {
     "data": {
      "text/plain": [
       "<matplotlib.collections.LineCollection at 0x1a6160a55b0>"
      ]
     },
     "execution_count": 32,
     "metadata": {},
     "output_type": "execute_result"
    },
    {
     "data": {
      "image/png": "[encoded data removed]",
      "text/plain": [
       "<Figure size 720x720 with 1 Axes>"
      ]
     },
     "metadata": {
      "needs_background": "light"
     },
     "output_type": "display_data"
    },
    {
     "ename": "",
     "evalue": "",
     "output_type": "error",
     "traceback": [
      "\u001b[1;31mThe Kernel crashed while executing code in the the current cell or a previous cell. Please review the code in the cell(s) to identify a possible cause of the failure. Click <a href='https://aka.ms/vscodeJupyterKernelCrash'>here</a> for more info. View Jupyter <a href='command:jupyter.viewOutput'>log</a> for further details."
     ]
    }
   ],
   "source": [
    "fig , ax = plt.subplots(figsize=(10,10))\n",
    "\n",
    "ax.set_xscale('log')\n",
    "# ax.set_yscale('log')\n",
    "\n",
    "Nx = np.array(N)\n",
    "Ix = np.array(I)\n",
    "Sx = np.array(S)\n",
    "\n",
    "\n",
    "ax.plot(N,I, ls='', marker='o', color='lightcoral')\n",
    "ax.plot(Nx,Ix+Sx, ls='', marker='_', color='lightcoral')\n",
    "ax.plot(Nx,Ix-Sx, ls='', marker='_', color='lightcoral')\n",
    "ax.vlines(Nx, ymin=Ix-Sx, ymax=Ix+Sx, ls=':', color='lightcoral')\n",
    "ax.hlines(2, xmin=1e4, xmax=1e8, ls='--', color='lightskyblue')\n"
   ]
  },
  {
   "cell_type": "code",
   "execution_count": null,
   "id": "cb970ad2",
   "metadata": {},
   "outputs": [],
   "source": [
    "import matplotlib.pyplot as plt\n",
    "\n",
    "d = [0, 1, 2, 3, 4]\n",
    "c = [109, 65, 22, 3, 1]\n",
    "\n"
   ]
  },
  {
   "cell_type": "code",
   "execution_count": null,
   "id": "fca1b92a",
   "metadata": {},
   "outputs": [],
   "source": []
  }
 ],
 "metadata": {
  "kernelspec": {
   "display_name": "Python 3 (ipykernel)",
   "language": "python",
   "name": "python3"
  },
  "language_info": {
   "codemirror_mode": {
    "name": "ipython",
    "version": 3
   },
   "file_extension": ".py",
   "mimetype": "text/x-python",
   "name": "python",
   "nbconvert_exporter": "python",
   "pygments_lexer": "ipython3",
   "version": "3.9.13"
  }
 },
 "nbformat": 4,
 "nbformat_minor": 5
}
