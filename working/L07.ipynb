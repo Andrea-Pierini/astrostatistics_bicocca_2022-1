{
 "cells": [
  {
   "cell_type": "code",
   "execution_count": 18,
   "id": "8923a1d2",
   "metadata": {},
   "outputs": [],
   "source": [
    "import numpy as np\n",
    "import matplotlib.pyplot as plt"
   ]
  },
  {
   "cell_type": "code",
   "execution_count": 29,
   "id": "ecfa254e",
   "metadata": {},
   "outputs": [
    {
     "name": "stdout",
     "output_type": "stream",
     "text": [
      "0.24636189819166537\n",
      "0.9861837764025827\n",
      "nan\n"
     ]
    },
    {
     "name": "stderr",
     "output_type": "stream",
     "text": [
      "C:\\Users\\andre\\AppData\\Local\\Temp\\ipykernel_12608\\4202742292.py:5: RuntimeWarning: invalid value encountered in sqrt\n",
      "  m = M * np.sqrt( ( 1 + np.sqrt(1 - M**2) ) / 2 )\n"
     ]
    }
   ],
   "source": [
    "N = 10000\n",
    "\n",
    "x = np.random.uniform(size=N)\n",
    "M = np.random.normal(loc=1, scale=0.02, size=N)\n",
    "m = M * np.sqrt( ( 1 + np.sqrt(1 - M**2) ) / 2 )\n",
    "\n",
    "print(np.quantile(x, 0.25))\n",
    "print(np.quantile(M, 0.25))\n",
    "print(np.quantile(m, 0.25))"
   ]
  },
  {
   "cell_type": "code",
   "execution_count": 22,
   "id": "8435aa6f",
   "metadata": {},
   "outputs": [
    {
     "name": "stdout",
     "output_type": "stream",
     "text": [
      "nan\n"
     ]
    },
    {
     "data": {
      "image/png": "[encoded data removed]",
      "text/plain": [
       "<Figure size 720x720 with 1 Axes>"
      ]
     },
     "metadata": {
      "needs_background": "light"
     },
     "output_type": "display_data"
    }
   ],
   "source": [
    "fig , ax = plt.subplots(figsize=(10,10))\n",
    "\n",
    "q25_m = np.quantile(m, 0.25) \n",
    "q75_m = np.quantile(m, 0.75)\n",
    "print(q25_m)\n",
    "\n",
    "q25_M = np.quantile(M, 0.25)\n",
    "\n",
    "\n",
    "\n",
    "\n",
    "counts, bins, _ = ax.hist(m, color='black', alpha=0.75, bins=40)"
   ]
  },
  {
   "cell_type": "code",
   "execution_count": null,
   "id": "47054fd4",
   "metadata": {},
   "outputs": [],
   "source": []
  }
 ],
 "metadata": {
  "kernelspec": {
   "display_name": "Python 3 (ipykernel)",
   "language": "python",
   "name": "python3"
  },
  "language_info": {
   "codemirror_mode": {
    "name": "ipython",
    "version": 3
   },
   "file_extension": ".py",
   "mimetype": "text/x-python",
   "name": "python",
   "nbconvert_exporter": "python",
   "pygments_lexer": "ipython3",
   "version": "3.9.10"
  }
 },
 "nbformat": 4,
 "nbformat_minor": 5
}
