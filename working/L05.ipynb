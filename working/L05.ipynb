{
 "cells": [
  {
   "cell_type": "code",
   "execution_count": 1,
   "id": "9625d931",
   "metadata": {},
   "outputs": [],
   "source": [
    "import numpy             as np\n",
    "import matplotlib.pyplot as plt\n",
    "from   scipy.stats       import norm\n",
    "from   sys               import stdout"
   ]
  },
  {
   "cell_type": "code",
   "execution_count": 2,
   "id": "ff79b0c7",
   "metadata": {},
   "outputs": [],
   "source": [
    "N   = 100000\n",
    "m   = 1\n",
    "s   = 0.2\n",
    "\n",
    "x   = np.random.normal(loc=m, scale=s, size=N)\n",
    "ex  = np.full(shape=N, fill_value=s)\n",
    "p   = norm.pdf(x, loc=m, scale=s)\n",
    "lnp = np.log(p)"
   ]
  },
  {
   "cell_type": "code",
   "execution_count": 3,
   "id": "e5fa7b94",
   "metadata": {},
   "outputs": [
    {
     "data": {
      "text/plain": [
       "[<matplotlib.lines.Line2D at 0x236f1e4bfd0>]"
      ]
     },
     "execution_count": 3,
     "metadata": {},
     "output_type": "execute_result"
    },
    {
     "data": {
      "image/png": "[encoded data removed]",
      "text/plain": [
       "<Figure size 720x720 with 1 Axes>"
      ]
     },
     "metadata": {
      "needs_background": "light"
     },
     "output_type": "display_data"
    }
   ],
   "source": [
    "fig , ax = plt.subplots(figsize=(10,10))\n",
    "\n",
    "ax.plot( x, p, ls='', c='black', marker='o', markersize=1e-2)"
   ]
  },
  {
   "cell_type": "code",
   "execution_count": 4,
   "id": "a79bf69c",
   "metadata": {},
   "outputs": [
    {
     "name": "stdout",
     "output_type": "stream",
     "text": [
      "Likelihood    = inf\n",
      "LogLikelihood = 1.90e+04\n",
      "\n",
      "p_i max = 1.99e+00 at x_i = 1.00\n",
      "\n",
      "MLE = 0.9994 +- 0.0006\n"
     ]
    },
    {
     "name": "stderr",
     "output_type": "stream",
     "text": [
      "C:\\Users\\andre\\AppData\\Local\\Packages\\PythonSoftwareFoundation.Python.3.9_qbz5n2kfra8p0\\LocalCache\\local-packages\\Python39\\site-packages\\numpy\\core\\fromnumeric.py:86: RuntimeWarning: overflow encountered in reduce\n",
      "  return ufunc.reduce(obj, axis, dtype, out, **passkwargs)\n"
     ]
    }
   ],
   "source": [
    "L   = np.prod(p)\n",
    "lnL = np.sum(lnp)\n",
    "\n",
    "print('Likelihood    = {:.2e}'.format(L))\n",
    "print('LogLikelihood = {:.2e}'.format(lnL))\n",
    "\n",
    "p_max = np.amax(p)\n",
    "x_max = x[ np.argmax(p) ]\n",
    "\n",
    "print()\n",
    "\n",
    "print('p_i max = {:.2e} at x_i = {:.2f}'.format(p_max, x_max) )\n",
    "\n",
    "print()\n",
    "\n",
    "MLE  = np.mean(x)\n",
    "EMLE = np.std(x) / np.sqrt(N)\n",
    "\n",
    "print('MLE = {:.4f} +- {:.4f}'.format(MLE, EMLE))"
   ]
  },
  {
   "cell_type": "code",
   "execution_count": null,
   "id": "22bdf91e",
   "metadata": {},
   "outputs": [],
   "source": []
  },
  {
   "cell_type": "code",
   "execution_count": null,
   "id": "cb64d29c",
   "metadata": {},
   "outputs": [],
   "source": []
  },
  {
   "cell_type": "code",
   "execution_count": 5,
   "id": "bf4716e7",
   "metadata": {},
   "outputs": [
    {
     "name": "stdout",
     "output_type": "stream",
     "text": [
      " Progress = 100.000%\n",
      "1000\n",
      "1000\n"
     ]
    }
   ],
   "source": [
    "'''\n",
    "def logL(X, m, s):\n",
    "    p = np.zeros(len(X))\n",
    "    for i in range(len(X)):\n",
    "        p[i]   = norm.pdf(X[i], loc=m, scale=s)\n",
    "    lnp = np.log(p)\n",
    "    return np.sum(lnp)\n",
    "\n",
    "LNL = np.zeros(1000)\n",
    "for i, maa in enumerate(m_maybe):\n",
    "    LNL[i] = logL(x, maa, s)\n",
    "'''\n",
    "\n",
    "m_maybe = np.linspace(start=0, stop=1, num=1000)\n",
    "\n",
    "LNL = []\n",
    "\n",
    "for i, m_i in enumerate(m_maybe):\n",
    "    p_i   = norm.pdf(x, loc=m_i, scale=s)\n",
    "    lnp_i = np.log(p_i)\n",
    "    LNL.append(lnp_i)\n",
    "    stdout.write('\\r Progress = {:.3f}%'.format((i+1)/len(m_maybe)*100.)) # Dynamic print\n",
    "\n",
    "LNL = np.array(LNL)\n",
    "\n",
    "print()\n",
    "print(len(LNL))\n",
    "print(len(m_maybe))"
   ]
  },
  {
   "cell_type": "code",
   "execution_count": null,
   "id": "923443db",
   "metadata": {},
   "outputs": [
    {
     "name": "stdout",
     "output_type": "stream",
     "text": [
      "0.6904993792294267\n",
      "-41.597724047280785\n",
      "1.0\n",
      "0.0\n"
     ]
    }
   ],
   "source": [
    "plt.clf()\n",
    "\n",
    "print(np.amax(LNL))\n",
    "print(np.amin(LNL))\n",
    "print(np.amax(m_maybe))\n",
    "print(np.amin(m_maybe))\n",
    "\n",
    "fig , ax = plt.subplots()\n",
    "\n",
    "ax.set_xlim(0,1)\n",
    "ax.set_ylim(-50,+50)\n",
    "\n",
    "ax.plot( m_maybe, LNL) #, ls='', c='black', marker='o') #, markersize=1e-2)"
   ]
  },
  {
   "cell_type": "code",
   "execution_count": null,
   "id": "282a5288",
   "metadata": {},
   "outputs": [],
   "source": [
    "'''\n",
    "def logL(X, m, s):\n",
    "    p = np.zeros(len(X))\n",
    "    for i in range(len(X)):\n",
    "        p[i]   = norm.pdf(X[i], loc=m, scale=s)\n",
    "    lnp = np.log(p)\n",
    "    return np.sum(lnp)\n",
    "\n",
    "LNL = np.zeros(1000)\n",
    "for i, maa in enumerate(m_maybe):\n",
    "    LNL[i] = logL(x, maa, s)\n",
    "\n",
    "\n",
    "m_maybe = np.linspace(start=0, stop=1, num=1000)\n",
    "\n",
    "LNL = np.zeros(1000)\n",
    "\n",
    "for i in range(len(m_maybe)):\n",
    "    lnp_i = 0\n",
    "    for j in range(len(x)):\n",
    "        p_j   = norm.pdf( x[j], loc=m_maybe[i], scale=s)\n",
    "        lnp_i += np.log(p_j)\n",
    "    LNL[i] = lnp_i\n",
    "    stdout.write('\\r Progress = {:.3f}%'.format(i/len(m_maybe)*100.)) # Dynamic print\n",
    "\n",
    "fig , ax = plt.subplots(figsize=(10,10))\n",
    "\n",
    "ax.plot( m_maybe, LNL, ls='', c='black', marker='o', markersize=1e-2)\n",
    "\n",
    "'''"
   ]
  }
 ],
 "metadata": {
  "kernelspec": {
   "display_name": "Python 3 (ipykernel)",
   "language": "python",
   "name": "python3"
  },
  "language_info": {
   "codemirror_mode": {
    "name": "ipython",
    "version": 3
   },
   "file_extension": ".py",
   "mimetype": "text/x-python",
   "name": "python",
   "nbconvert_exporter": "python",
   "pygments_lexer": "ipython3",
   "version": "3.9.10"
  }
 },
 "nbformat": 4,
 "nbformat_minor": 5
}
