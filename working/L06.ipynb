{
 "cells": [
  {
   "cell_type": "code",
   "execution_count": 20,
   "id": "bb2ca812",
   "metadata": {},
   "outputs": [],
   "source": [
    "import numpy as np\n",
    "import matplotlib.pyplot as plt\n",
    "from scipy.stats import norm\n",
    "from sklearn.mixture import GaussianMixture\n",
    "\n",
    "\n",
    "data = np.load( \"formationchannels.npy\" )"
   ]
  },
  {
   "cell_type": "code",
   "execution_count": 40,
   "id": "6997f568",
   "metadata": {},
   "outputs": [
    {
     "name": "stdout",
     "output_type": "stream",
     "text": [
      "(3,)\n",
      "(3, 1)\n",
      "(3, 1, 1)\n"
     ]
    },
    {
     "data": {
      "image/png": "[encoded data removed]",
      "text/plain": [
       "<Figure size 432x288 with 1 Axes>"
      ]
     },
     "metadata": {
      "needs_background": "light"
     },
     "output_type": "display_data"
    }
   ],
   "source": [
    "fig , ax = plt.subplots()\n",
    "\n",
    "counts, bins, _ = ax.hist(data, bins=70, density=True, color='black', alpha=0.6)\n",
    "\n",
    "\n",
    "means_guesstimate = np.array([15,20,30])\n",
    "means_guesstimate = means_guesstimate[:,np.newaxis]\n",
    "\n",
    "GM = GaussianMixture(n_components=3, means_init=means_guesstimate).fit(data)\n",
    "\n",
    "w = GM.weights_\n",
    "m = GM.means_\n",
    "C = GM.covariances_\n",
    "\n",
    "print(w.shape)\n",
    "print(m.shape)\n",
    "print(C.shape)\n",
    "\n",
    "W = []\n",
    "M = []\n",
    "S = []\n",
    "\n",
    "for i in range(3):\n",
    "    W.append( w[i] )\n",
    "    M.append( m[i][0])\n",
    "    S.append( C[i][0][0] )\n",
    "\n",
    "x  = np.linspace(0,45,10000)\n",
    "f  = W[0] * norm.pdf(x, loc=M[0], scale=S[0]) \n",
    "f += W[1] * norm.pdf(x, loc=M[1], scale=S[1]) \n",
    "f += W[2] * norm.pdf(x, loc=M[2], scale=S[2])\n",
    "\n",
    "ax.plot( x, f)\n",
    "\n",
    "plt.show()\n",
    "\n",
    "# 3 gaussians?"
   ]
  },
  {
   "cell_type": "code",
   "execution_count": 34,
   "id": "2e90e3f5",
   "metadata": {},
   "outputs": [
    {
     "name": "stdout",
     "output_type": "stream",
     "text": [
      "(3,)\n",
      "(3, 1)\n",
      "(3, 1, 1)\n"
     ]
    }
   ],
   "source": []
  },
  {
   "cell_type": "code",
   "execution_count": null,
   "id": "74e98b46",
   "metadata": {},
   "outputs": [],
   "source": []
  }
 ],
 "metadata": {
  "kernelspec": {
   "display_name": "Python 3 (ipykernel)",
   "language": "python",
   "name": "python3"
  },
  "language_info": {
   "codemirror_mode": {
    "name": "ipython",
    "version": 3
   },
   "file_extension": ".py",
   "mimetype": "text/x-python",
   "name": "python",
   "nbconvert_exporter": "python",
   "pygments_lexer": "ipython3",
   "version": "3.9.10"
  }
 },
 "nbformat": 4,
 "nbformat_minor": 5
}
